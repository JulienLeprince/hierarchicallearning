{
 "cells": [
  {
   "cell_type": "markdown",
   "metadata": {},
   "source": [
    "# Manipulating trees\n",
    "\n",
    "This tutorial intends on demonstrating possible manipulations with the implemented `TreeClass`"
   ]
  },
  {
   "cell_type": "code",
   "execution_count": 32,
   "metadata": {},
   "outputs": [],
   "source": [
    "# Standard Libraries\n",
    "import pandas as pd\n",
    "import numpy as np\n",
    "# Tree package\n",
    "import hierarchicalearning.TreeClass as treepkg\n",
    "\n",
    "# Defining a simple (A, (B, C, D)) hierarchy\n",
    "leaves = ['B', 'C', 'D']\n",
    "periods = 100\n",
    "random_data = np.random.rand(periods, 3)\n",
    "tidx = pd.date_range('2022-01-01', periods=periods, freq='H')\n",
    "df = pd.DataFrame(random_data, columns=leaves, index=tidx)\n",
    "\n",
    "df_tree = dict()\n",
    "for leaf_id in leaves:\n",
    "    df_tree[leaf_id] = df.loc[:, [leaf_id]]\n",
    "    df_tree[leaf_id].rename(columns={leaf_id: 'node_timeseries1'}, inplace=True)"
   ]
  },
  {
   "cell_type": "markdown",
   "metadata": {},
   "source": [
    "## Creating hierarchies\n",
    "\n",
    "### Spatial trees\n",
    "A spatial tree can be created from 2 different structures:\n",
    "1. a `set` object composed of `Node` class objects representing the elements of the tree\n",
    "2. a `tuple` object composed of the summation matrix `S` and the identification numbers of its associated `y` vector in the ordering: (S, y_ID)"
   ]
  },
  {
   "cell_type": "code",
   "execution_count": 33,
   "metadata": {},
   "outputs": [],
   "source": [
    "# Creating the set object `nodes` aggregating all considered tree elements, with their respective parent/child relationships\n",
    "root = treepkg.Node(id='A',\n",
    "                    parent=None,\n",
    "                    children=leaves)\n",
    "nodes = {root}\n",
    "for leaf_id in leaves:\n",
    "    leaf = treepkg.Node(id=leaf_id,\n",
    "                        parent='A',\n",
    "                        children=None)\n",
    "    nodes.add(leaf)\n",
    "\n",
    "# Creating spatial tree\n",
    "tree_S = treepkg.Tree(nodes, dimension='spatial')"
   ]
  },
  {
   "cell_type": "code",
   "execution_count": 34,
   "metadata": {},
   "outputs": [
    {
     "name": "stdout",
     "output_type": "stream",
     "text": [
      "'A'\n",
      "\t\t'B'\n",
      "\t\t'C'\n",
      "\t\t'D'\n"
     ]
    }
   ],
   "source": [
    "tree_S.print()"
   ]
  },
  {
   "cell_type": "code",
   "execution_count": 35,
   "metadata": {},
   "outputs": [
    {
     "name": "stdout",
     "output_type": "stream",
     "text": [
      "node:  C leaf - parent: A - children: None\n",
      "node:  D leaf - parent: A - children: None\n",
      "node:  B leaf - parent: A - children: None\n",
      "node:  A root - parent: None - children: ['B', 'C', 'D']\n"
     ]
    }
   ],
   "source": [
    "tree_S.print_flat()"
   ]
  },
  {
   "cell_type": "markdown",
   "metadata": {},
   "source": [
    "By creating the tree structure from the node elements, the package automatically calculates the Summation matrix, y vectore identification k-level mapping values. "
   ]
  },
  {
   "cell_type": "code",
   "execution_count": 36,
   "metadata": {},
   "outputs": [
    {
     "data": {
      "text/plain": [
       "array([[1, 1, 1],\n",
       "       [1, 0, 0],\n",
       "       [0, 1, 0],\n",
       "       [0, 0, 1]])"
      ]
     },
     "execution_count": 36,
     "metadata": {},
     "output_type": "execute_result"
    }
   ],
   "source": [
    "tree_S.S"
   ]
  },
  {
   "cell_type": "code",
   "execution_count": 37,
   "metadata": {},
   "outputs": [
    {
     "data": {
      "text/plain": [
       "['A', 'C', 'D', 'B']"
      ]
     },
     "execution_count": 37,
     "metadata": {},
     "output_type": "execute_result"
    }
   ],
   "source": [
    "tree_S.y_ID"
   ]
  },
  {
   "cell_type": "code",
   "execution_count": 38,
   "metadata": {},
   "outputs": [
    {
     "data": {
      "text/plain": [
       "{3: ['A'], 1: ['C', 'D', 'B']}"
      ]
     },
     "execution_count": 38,
     "metadata": {},
     "output_type": "execute_result"
    }
   ],
   "source": [
    "tree_S.k_level_map"
   ]
  },
  {
   "cell_type": "markdown",
   "metadata": {},
   "source": [
    "We can now create the time series hierarchy from a dictionnary of {leaf_id: pandas.DataFrame} object that will be aggregated across the tree using the `create_spatial_hierarchy` method"
   ]
  },
  {
   "cell_type": "code",
   "execution_count": 39,
   "metadata": {},
   "outputs": [
    {
     "name": "stdout",
     "output_type": "stream",
     "text": [
      "node:  C\n",
      "                     node_timeseries1\n",
      "2022-01-01 00:00:00          0.822418\n",
      "2022-01-01 01:00:00          0.648446\n",
      "2022-01-01 02:00:00          0.361801\n",
      "node:  D\n",
      "                     node_timeseries1\n",
      "2022-01-01 00:00:00          0.727178\n",
      "2022-01-01 01:00:00          0.475632\n",
      "2022-01-01 02:00:00          0.771693\n",
      "node:  B\n",
      "                     node_timeseries1\n",
      "2022-01-01 00:00:00          0.456913\n",
      "2022-01-01 01:00:00          0.299870\n",
      "2022-01-01 02:00:00          0.298897\n",
      "node:  A\n",
      "                     node_timeseries1\n",
      "2022-01-01 00:00:00          2.006509\n",
      "2022-01-01 01:00:00          1.423949\n",
      "2022-01-01 02:00:00          1.432392\n"
     ]
    }
   ],
   "source": [
    "tree_S.create_spatial_hierarchy(df_tree, columns2aggr=['node_timeseries1'])\n",
    "tree_S.head(3)"
   ]
  },
  {
   "cell_type": "markdown",
   "metadata": {},
   "source": [
    "### Temporal trees\n",
    "A temporal tree can be created from 2 structural input objects:\n",
    "1. a `dict` object representing the k-level sampling frequencies of the temporal tree. E.g.: {1: '1D', 2: '6H', 3:'1H'}\n",
    "2. a `tuple` object composed of the summation matrix `S` and the identification numbers of its associated `y` vector in the ordering: (S, y_ID)"
   ]
  },
  {
   "cell_type": "code",
   "execution_count": 40,
   "metadata": {},
   "outputs": [],
   "source": [
    "tree_input_structure = {1: '6H', 2: '2H', 3: '1H'}\n",
    "tree_T = treepkg.Tree(tree_input_structure, dimension='temporal')"
   ]
  },
  {
   "cell_type": "code",
   "execution_count": 41,
   "metadata": {},
   "outputs": [
    {
     "data": {
      "text/plain": [
       "array([[1, 1, 1, 1, 1, 1],\n",
       "       [1, 1, 0, 0, 0, 0],\n",
       "       [0, 0, 1, 1, 0, 0],\n",
       "       [0, 0, 0, 0, 1, 1],\n",
       "       [0, 0, 1, 0, 0, 0],\n",
       "       [0, 0, 0, 0, 1, 0],\n",
       "       [0, 0, 0, 0, 0, 1],\n",
       "       [0, 0, 0, 1, 0, 0],\n",
       "       [0, 1, 0, 0, 0, 0],\n",
       "       [1, 0, 0, 0, 0, 0]])"
      ]
     },
     "execution_count": 41,
     "metadata": {},
     "output_type": "execute_result"
    }
   ],
   "source": [
    "tree_T.S"
   ]
  },
  {
   "cell_type": "code",
   "execution_count": 42,
   "metadata": {},
   "outputs": [
    {
     "data": {
      "text/plain": [
       "['6H_0',\n",
       " '2H_0',\n",
       " '2H_1',\n",
       " '2H_2',\n",
       " '1H_2',\n",
       " '1H_4',\n",
       " '1H_5',\n",
       " '1H_3',\n",
       " '1H_1',\n",
       " '1H_0']"
      ]
     },
     "execution_count": 42,
     "metadata": {},
     "output_type": "execute_result"
    }
   ],
   "source": [
    "tree_T.y_ID"
   ]
  },
  {
   "cell_type": "code",
   "execution_count": 43,
   "metadata": {},
   "outputs": [
    {
     "data": {
      "text/plain": [
       "{6: ['6H_0'],\n",
       " 2: ['2H_0', '2H_1', '2H_2'],\n",
       " 1: ['1H_0', '1H_1', '1H_2', '1H_3', '1H_4', '1H_5']}"
      ]
     },
     "execution_count": 43,
     "metadata": {},
     "output_type": "execute_result"
    }
   ],
   "source": [
    "tree_T.k_level_map"
   ]
  },
  {
   "cell_type": "markdown",
   "metadata": {},
   "source": [
    "We create the temporal time-series hierarchy from one input pandas.DataFrame object"
   ]
  },
  {
   "cell_type": "code",
   "execution_count": 44,
   "metadata": {},
   "outputs": [
    {
     "name": "stdout",
     "output_type": "stream",
     "text": [
      "node:  6H_0\n",
      "                     node_timeseries1\n",
      "2022-01-01 00:00:00          2.416109\n",
      "2022-01-01 06:00:00          2.698158\n",
      "2022-01-01 12:00:00          4.480967\n",
      "node:  2H_0\n",
      "                     node_timeseries1\n",
      "2022-01-01 00:00:00          1.470864\n",
      "2022-01-01 06:00:00          1.108819\n",
      "2022-01-01 12:00:00          1.552218\n",
      "node:  2H_1\n",
      "                     node_timeseries1\n",
      "2022-01-01 02:00:00          0.871142\n",
      "2022-01-01 08:00:00          0.637602\n",
      "2022-01-01 14:00:00          1.882327\n",
      "node:  2H_2\n",
      "                     node_timeseries1\n",
      "2022-01-01 04:00:00          0.074103\n",
      "2022-01-01 10:00:00          0.951738\n",
      "2022-01-01 16:00:00          1.046422\n",
      "node:  1H_0\n",
      "                     node_timeseries1\n",
      "2022-01-01 00:00:00          0.822418\n",
      "2022-01-01 06:00:00          0.482615\n",
      "2022-01-01 12:00:00          0.626919\n",
      "node:  1H_1\n",
      "                     node_timeseries1\n",
      "2022-01-01 01:00:00          0.648446\n",
      "2022-01-01 07:00:00          0.626204\n",
      "2022-01-01 13:00:00          0.925299\n",
      "node:  1H_2\n",
      "                     node_timeseries1\n",
      "2022-01-01 02:00:00          0.361801\n",
      "2022-01-01 08:00:00          0.074920\n",
      "2022-01-01 14:00:00          0.996628\n",
      "node:  1H_3\n",
      "                     node_timeseries1\n",
      "2022-01-01 03:00:00          0.509340\n",
      "2022-01-01 09:00:00          0.562682\n",
      "2022-01-01 15:00:00          0.885698\n",
      "node:  1H_4\n",
      "                     node_timeseries1\n",
      "2022-01-01 04:00:00          0.071509\n",
      "2022-01-01 10:00:00          0.608731\n",
      "2022-01-01 16:00:00          0.620383\n",
      "node:  1H_5\n",
      "                     node_timeseries1\n",
      "2022-01-01 05:00:00          0.002594\n",
      "2022-01-01 11:00:00          0.343007\n",
      "2022-01-01 17:00:00          0.426039\n"
     ]
    }
   ],
   "source": [
    "tree_T.create_temporal_hierarchy(df_tree[list(df_tree.keys())[1]], columns2aggr=['node_timeseries1'])\n",
    "tree_T.head(3)"
   ]
  },
  {
   "cell_type": "markdown",
   "metadata": {},
   "source": [
    "### Spatiotemporal trees\n",
    "Spatiotemporal trees are defined using `Multi_Tree`, a parent class of the uni-dimensional `Tree` class. The spatiotemporal tree is created from 2 defined spatial and temporal `Tree` objects respectively."
   ]
  },
  {
   "cell_type": "code",
   "execution_count": 45,
   "metadata": {},
   "outputs": [],
   "source": [
    "### Creating Spatio-Temporal tree\n",
    "tree_ST = treepkg.Multi_Tree(tree_S, tree_T)"
   ]
  },
  {
   "cell_type": "code",
   "execution_count": 46,
   "metadata": {},
   "outputs": [
    {
     "data": {
      "text/plain": [
       "array([[1, 1, 1, 1, 1, 1, 1, 1, 1, 1, 1, 1, 1, 1, 1, 1, 1, 1],\n",
       "       [1, 1, 0, 0, 0, 0, 1, 1, 0, 0, 0, 0, 1, 1, 0, 0, 0, 0],\n",
       "       [0, 0, 1, 1, 0, 0, 0, 0, 1, 1, 0, 0, 0, 0, 1, 1, 0, 0],\n",
       "       [0, 0, 0, 0, 1, 1, 0, 0, 0, 0, 1, 1, 0, 0, 0, 0, 1, 1],\n",
       "       [0, 0, 1, 0, 0, 0, 0, 0, 1, 0, 0, 0, 0, 0, 1, 0, 0, 0],\n",
       "       [0, 0, 0, 0, 1, 0, 0, 0, 0, 0, 1, 0, 0, 0, 0, 0, 1, 0],\n",
       "       [0, 0, 0, 0, 0, 1, 0, 0, 0, 0, 0, 1, 0, 0, 0, 0, 0, 1],\n",
       "       [0, 0, 0, 1, 0, 0, 0, 0, 0, 1, 0, 0, 0, 0, 0, 1, 0, 0],\n",
       "       [0, 1, 0, 0, 0, 0, 0, 1, 0, 0, 0, 0, 0, 1, 0, 0, 0, 0],\n",
       "       [1, 0, 0, 0, 0, 0, 1, 0, 0, 0, 0, 0, 1, 0, 0, 0, 0, 0],\n",
       "       [1, 1, 1, 1, 1, 1, 0, 0, 0, 0, 0, 0, 0, 0, 0, 0, 0, 0],\n",
       "       [1, 1, 0, 0, 0, 0, 0, 0, 0, 0, 0, 0, 0, 0, 0, 0, 0, 0],\n",
       "       [0, 0, 1, 1, 0, 0, 0, 0, 0, 0, 0, 0, 0, 0, 0, 0, 0, 0],\n",
       "       [0, 0, 0, 0, 1, 1, 0, 0, 0, 0, 0, 0, 0, 0, 0, 0, 0, 0],\n",
       "       [0, 0, 1, 0, 0, 0, 0, 0, 0, 0, 0, 0, 0, 0, 0, 0, 0, 0],\n",
       "       [0, 0, 0, 0, 1, 0, 0, 0, 0, 0, 0, 0, 0, 0, 0, 0, 0, 0],\n",
       "       [0, 0, 0, 0, 0, 1, 0, 0, 0, 0, 0, 0, 0, 0, 0, 0, 0, 0],\n",
       "       [0, 0, 0, 1, 0, 0, 0, 0, 0, 0, 0, 0, 0, 0, 0, 0, 0, 0],\n",
       "       [0, 1, 0, 0, 0, 0, 0, 0, 0, 0, 0, 0, 0, 0, 0, 0, 0, 0],\n",
       "       [1, 0, 0, 0, 0, 0, 0, 0, 0, 0, 0, 0, 0, 0, 0, 0, 0, 0],\n",
       "       [0, 0, 0, 0, 0, 0, 1, 1, 1, 1, 1, 1, 0, 0, 0, 0, 0, 0],\n",
       "       [0, 0, 0, 0, 0, 0, 1, 1, 0, 0, 0, 0, 0, 0, 0, 0, 0, 0],\n",
       "       [0, 0, 0, 0, 0, 0, 0, 0, 1, 1, 0, 0, 0, 0, 0, 0, 0, 0],\n",
       "       [0, 0, 0, 0, 0, 0, 0, 0, 0, 0, 1, 1, 0, 0, 0, 0, 0, 0],\n",
       "       [0, 0, 0, 0, 0, 0, 0, 0, 1, 0, 0, 0, 0, 0, 0, 0, 0, 0],\n",
       "       [0, 0, 0, 0, 0, 0, 0, 0, 0, 0, 1, 0, 0, 0, 0, 0, 0, 0],\n",
       "       [0, 0, 0, 0, 0, 0, 0, 0, 0, 0, 0, 1, 0, 0, 0, 0, 0, 0],\n",
       "       [0, 0, 0, 0, 0, 0, 0, 0, 0, 1, 0, 0, 0, 0, 0, 0, 0, 0],\n",
       "       [0, 0, 0, 0, 0, 0, 0, 1, 0, 0, 0, 0, 0, 0, 0, 0, 0, 0],\n",
       "       [0, 0, 0, 0, 0, 0, 1, 0, 0, 0, 0, 0, 0, 0, 0, 0, 0, 0],\n",
       "       [0, 0, 0, 0, 0, 0, 0, 0, 0, 0, 0, 0, 1, 1, 1, 1, 1, 1],\n",
       "       [0, 0, 0, 0, 0, 0, 0, 0, 0, 0, 0, 0, 1, 1, 0, 0, 0, 0],\n",
       "       [0, 0, 0, 0, 0, 0, 0, 0, 0, 0, 0, 0, 0, 0, 1, 1, 0, 0],\n",
       "       [0, 0, 0, 0, 0, 0, 0, 0, 0, 0, 0, 0, 0, 0, 0, 0, 1, 1],\n",
       "       [0, 0, 0, 0, 0, 0, 0, 0, 0, 0, 0, 0, 0, 0, 1, 0, 0, 0],\n",
       "       [0, 0, 0, 0, 0, 0, 0, 0, 0, 0, 0, 0, 0, 0, 0, 0, 1, 0],\n",
       "       [0, 0, 0, 0, 0, 0, 0, 0, 0, 0, 0, 0, 0, 0, 0, 0, 0, 1],\n",
       "       [0, 0, 0, 0, 0, 0, 0, 0, 0, 0, 0, 0, 0, 0, 0, 1, 0, 0],\n",
       "       [0, 0, 0, 0, 0, 0, 0, 0, 0, 0, 0, 0, 0, 1, 0, 0, 0, 0],\n",
       "       [0, 0, 0, 0, 0, 0, 0, 0, 0, 0, 0, 0, 1, 0, 0, 0, 0, 0]])"
      ]
     },
     "execution_count": 46,
     "metadata": {},
     "output_type": "execute_result"
    }
   ],
   "source": [
    "tree_ST.S"
   ]
  },
  {
   "cell_type": "code",
   "execution_count": 47,
   "metadata": {},
   "outputs": [
    {
     "data": {
      "text/plain": [
       "[('A', '6H_0'),\n",
       " ('A', '2H_0'),\n",
       " ('A', '2H_1'),\n",
       " ('A', '2H_2'),\n",
       " ('A', '1H_2'),\n",
       " ('A', '1H_4'),\n",
       " ('A', '1H_5'),\n",
       " ('A', '1H_3'),\n",
       " ('A', '1H_1'),\n",
       " ('A', '1H_0'),\n",
       " ('C', '6H_0'),\n",
       " ('C', '2H_0'),\n",
       " ('C', '2H_1'),\n",
       " ('C', '2H_2'),\n",
       " ('C', '1H_2'),\n",
       " ('C', '1H_4'),\n",
       " ('C', '1H_5'),\n",
       " ('C', '1H_3'),\n",
       " ('C', '1H_1'),\n",
       " ('C', '1H_0'),\n",
       " ('D', '6H_0'),\n",
       " ('D', '2H_0'),\n",
       " ('D', '2H_1'),\n",
       " ('D', '2H_2'),\n",
       " ('D', '1H_2'),\n",
       " ('D', '1H_4'),\n",
       " ('D', '1H_5'),\n",
       " ('D', '1H_3'),\n",
       " ('D', '1H_1'),\n",
       " ('D', '1H_0'),\n",
       " ('B', '6H_0'),\n",
       " ('B', '2H_0'),\n",
       " ('B', '2H_1'),\n",
       " ('B', '2H_2'),\n",
       " ('B', '1H_2'),\n",
       " ('B', '1H_4'),\n",
       " ('B', '1H_5'),\n",
       " ('B', '1H_3'),\n",
       " ('B', '1H_1'),\n",
       " ('B', '1H_0')]"
      ]
     },
     "execution_count": 47,
     "metadata": {},
     "output_type": "execute_result"
    }
   ],
   "source": [
    "tree_ST.y_ID"
   ]
  },
  {
   "cell_type": "code",
   "execution_count": 48,
   "metadata": {},
   "outputs": [
    {
     "data": {
      "text/plain": [
       "{18: [('A', '6H_0')],\n",
       " 6: [('A', '2H_0'),\n",
       "  ('C', '6H_0'),\n",
       "  ('A', '2H_1'),\n",
       "  ('A', '2H_2'),\n",
       "  ('D', '6H_0'),\n",
       "  ('B', '6H_0')],\n",
       " 3: [('A', '1H_0'),\n",
       "  ('A', '1H_1'),\n",
       "  ('A', '1H_2'),\n",
       "  ('A', '1H_3'),\n",
       "  ('A', '1H_4'),\n",
       "  ('A', '1H_5')],\n",
       " 2: [('C', '2H_0'),\n",
       "  ('C', '2H_1'),\n",
       "  ('C', '2H_2'),\n",
       "  ('D', '2H_0'),\n",
       "  ('D', '2H_1'),\n",
       "  ('D', '2H_2'),\n",
       "  ('B', '2H_0'),\n",
       "  ('B', '2H_1'),\n",
       "  ('B', '2H_2')],\n",
       " 1: [('C', '1H_0'),\n",
       "  ('C', '1H_1'),\n",
       "  ('C', '1H_2'),\n",
       "  ('C', '1H_3'),\n",
       "  ('C', '1H_4'),\n",
       "  ('C', '1H_5'),\n",
       "  ('D', '1H_0'),\n",
       "  ('D', '1H_1'),\n",
       "  ('D', '1H_2'),\n",
       "  ('D', '1H_3'),\n",
       "  ('D', '1H_4'),\n",
       "  ('D', '1H_5'),\n",
       "  ('B', '1H_0'),\n",
       "  ('B', '1H_1'),\n",
       "  ('B', '1H_2'),\n",
       "  ('B', '1H_3'),\n",
       "  ('B', '1H_4'),\n",
       "  ('B', '1H_5')]}"
      ]
     },
     "execution_count": 48,
     "metadata": {},
     "output_type": "execute_result"
    }
   ],
   "source": [
    "tree_ST.k_level_map"
   ]
  },
  {
   "cell_type": "markdown",
   "metadata": {},
   "source": [
    "The time series hierarchy is then created in a similar fashion to the uni-dimensional trees, here using the `create_ST_hierarchy` method;"
   ]
  },
  {
   "cell_type": "code",
   "execution_count": 49,
   "metadata": {},
   "outputs": [
    {
     "name": "stdout",
     "output_type": "stream",
     "text": [
      "node:  ('A', '6H_0')\n",
      "                     node_timeseries1\n",
      "2022-01-01 00:00:00          9.167365\n",
      "2022-01-01 06:00:00          9.493111\n",
      "node:  ('A', '2H_0')\n",
      "                     node_timeseries1\n",
      "2022-01-01 00:00:00          3.430457\n",
      "2022-01-01 06:00:00          4.202178\n",
      "node:  ('A', '2H_1')\n",
      "                     node_timeseries1\n",
      "2022-01-01 02:00:00          3.190420\n",
      "2022-01-01 08:00:00          2.732963\n",
      "node:  ('A', '2H_2')\n",
      "                     node_timeseries1\n",
      "2022-01-01 04:00:00          2.546488\n",
      "2022-01-01 10:00:00          2.557969\n",
      "node:  ('A', '1H_2')\n",
      "                     node_timeseries1\n",
      "2022-01-01 02:00:00          1.432392\n",
      "2022-01-01 08:00:00          0.785643\n",
      "node:  ('A', '1H_4')\n",
      "                     node_timeseries1\n",
      "2022-01-01 04:00:00          0.940151\n",
      "2022-01-01 10:00:00          1.768399\n",
      "node:  ('A', '1H_5')\n",
      "                     node_timeseries1\n",
      "2022-01-01 05:00:00          1.606337\n",
      "2022-01-01 11:00:00          0.789570\n",
      "node:  ('A', '1H_3')\n",
      "                     node_timeseries1\n",
      "2022-01-01 03:00:00          1.758028\n",
      "2022-01-01 09:00:00          1.947321\n",
      "node:  ('A', '1H_1')\n",
      "                     node_timeseries1\n",
      "2022-01-01 01:00:00          1.423949\n",
      "2022-01-01 07:00:00          1.972724\n",
      "node:  ('A', '1H_0')\n",
      "                     node_timeseries1\n",
      "2022-01-01 00:00:00          2.006509\n",
      "2022-01-01 06:00:00          2.229454\n",
      "node:  ('C', '6H_0')\n",
      "                     node_timeseries1\n",
      "2022-01-01 00:00:00          2.416109\n",
      "2022-01-01 06:00:00          2.698158\n",
      "node:  ('C', '2H_0')\n",
      "                     node_timeseries1\n",
      "2022-01-01 00:00:00          1.470864\n",
      "2022-01-01 06:00:00          1.108819\n",
      "node:  ('C', '2H_1')\n",
      "                     node_timeseries1\n",
      "2022-01-01 02:00:00          0.871142\n",
      "2022-01-01 08:00:00          0.637602\n",
      "node:  ('C', '2H_2')\n",
      "                     node_timeseries1\n",
      "2022-01-01 04:00:00          0.074103\n",
      "2022-01-01 10:00:00          0.951738\n",
      "node:  ('C', '1H_2')\n",
      "                     node_timeseries1\n",
      "2022-01-01 02:00:00          0.361801\n",
      "2022-01-01 08:00:00          0.074920\n",
      "node:  ('C', '1H_4')\n",
      "                     node_timeseries1\n",
      "2022-01-01 04:00:00          0.071509\n",
      "2022-01-01 10:00:00          0.608731\n",
      "node:  ('C', '1H_5')\n",
      "                     node_timeseries1\n",
      "2022-01-01 05:00:00          0.002594\n",
      "2022-01-01 11:00:00          0.343007\n",
      "node:  ('C', '1H_3')\n",
      "                     node_timeseries1\n",
      "2022-01-01 03:00:00          0.509340\n",
      "2022-01-01 09:00:00          0.562682\n",
      "node:  ('C', '1H_1')\n",
      "                     node_timeseries1\n",
      "2022-01-01 01:00:00          0.648446\n",
      "2022-01-01 07:00:00          0.626204\n",
      "node:  ('C', '1H_0')\n",
      "                     node_timeseries1\n",
      "2022-01-01 00:00:00          0.822418\n",
      "2022-01-01 06:00:00          0.482615\n",
      "node:  ('D', '6H_0')\n",
      "                     node_timeseries1\n",
      "2022-01-01 00:00:00          3.510061\n",
      "2022-01-01 06:00:00          3.140523\n",
      "node:  ('D', '2H_0')\n",
      "                     node_timeseries1\n",
      "2022-01-01 00:00:00          1.202811\n",
      "2022-01-01 06:00:00          1.796576\n",
      "node:  ('D', '2H_1')\n",
      "                     node_timeseries1\n",
      "2022-01-01 02:00:00          1.377665\n",
      "2022-01-01 08:00:00          0.580710\n",
      "node:  ('D', '2H_2')\n",
      "                     node_timeseries1\n",
      "2022-01-01 04:00:00          0.929585\n",
      "2022-01-01 10:00:00          0.763237\n",
      "node:  ('D', '1H_2')\n",
      "                     node_timeseries1\n",
      "2022-01-01 02:00:00          0.771693\n",
      "2022-01-01 08:00:00          0.032387\n",
      "node:  ('D', '1H_4')\n",
      "                     node_timeseries1\n",
      "2022-01-01 04:00:00          0.026353\n",
      "2022-01-01 10:00:00          0.759082\n",
      "node:  ('D', '1H_5')\n",
      "                     node_timeseries1\n",
      "2022-01-01 05:00:00          0.903232\n",
      "2022-01-01 11:00:00          0.004155\n",
      "node:  ('D', '1H_3')\n",
      "                     node_timeseries1\n",
      "2022-01-01 03:00:00          0.605972\n",
      "2022-01-01 09:00:00          0.548324\n",
      "node:  ('D', '1H_1')\n",
      "                     node_timeseries1\n",
      "2022-01-01 01:00:00          0.475632\n",
      "2022-01-01 07:00:00          0.821223\n",
      "node:  ('D', '1H_0')\n",
      "                     node_timeseries1\n",
      "2022-01-01 00:00:00          0.727178\n",
      "2022-01-01 06:00:00          0.975353\n",
      "node:  ('B', '6H_0')\n",
      "                     node_timeseries1\n",
      "2022-01-01 00:00:00          3.241195\n",
      "2022-01-01 06:00:00          3.654429\n",
      "node:  ('B', '2H_0')\n",
      "                     node_timeseries1\n",
      "2022-01-01 00:00:00          0.756783\n",
      "2022-01-01 06:00:00          1.296784\n",
      "node:  ('B', '2H_1')\n",
      "                     node_timeseries1\n",
      "2022-01-01 02:00:00          0.941613\n",
      "2022-01-01 08:00:00          1.514651\n",
      "node:  ('B', '2H_2')\n",
      "                     node_timeseries1\n",
      "2022-01-01 04:00:00          1.542800\n",
      "2022-01-01 10:00:00          0.842994\n",
      "node:  ('B', '1H_2')\n",
      "                     node_timeseries1\n",
      "2022-01-01 02:00:00          0.298897\n",
      "2022-01-01 08:00:00          0.678336\n",
      "node:  ('B', '1H_4')\n",
      "                     node_timeseries1\n",
      "2022-01-01 04:00:00          0.842289\n",
      "2022-01-01 10:00:00          0.400586\n",
      "node:  ('B', '1H_5')\n",
      "                     node_timeseries1\n",
      "2022-01-01 05:00:00          0.700511\n",
      "2022-01-01 11:00:00          0.442409\n",
      "node:  ('B', '1H_3')\n",
      "                     node_timeseries1\n",
      "2022-01-01 03:00:00          0.642716\n",
      "2022-01-01 09:00:00          0.836315\n",
      "node:  ('B', '1H_1')\n",
      "                     node_timeseries1\n",
      "2022-01-01 01:00:00          0.299870\n",
      "2022-01-01 07:00:00          0.525298\n",
      "node:  ('B', '1H_0')\n",
      "                     node_timeseries1\n",
      "2022-01-01 00:00:00          0.456913\n",
      "2022-01-01 06:00:00          0.771486\n"
     ]
    }
   ],
   "source": [
    "tree_ST.create_ST_hierarchy(df_tree, columns2aggr=['node_timeseries1'])\n",
    "tree_ST.head(2)"
   ]
  }
 ],
 "metadata": {
  "kernelspec": {
   "display_name": "Python 3.9.12 ('tensorflow_env')",
   "language": "python",
   "name": "python3"
  },
  "language_info": {
   "codemirror_mode": {
    "name": "ipython",
    "version": 3
   },
   "file_extension": ".py",
   "mimetype": "text/x-python",
   "name": "python",
   "nbconvert_exporter": "python",
   "pygments_lexer": "ipython3",
   "version": "3.9.12"
  },
  "orig_nbformat": 4,
  "vscode": {
   "interpreter": {
    "hash": "2fe71c061d7947f6cb537a314e941db93d1e10209bb64f506b9d2feb02231d99"
   }
  }
 },
 "nbformat": 4,
 "nbformat_minor": 2
}
